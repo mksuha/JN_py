{
 "cells": [
  {
   "cell_type": "code",
   "execution_count": 4,
   "id": "exposed-influence",
   "metadata": {},
   "outputs": [
    {
     "name": "stdout",
     "output_type": "stream",
     "text": [
      "['/srv/conda/envs/notebook/lib/python3.8/site-packages/ipykernel_launcher.py', '-f', '/home/jovyan/.local/share/jupyter/runtime/kernel-ff351a93-2f58-4aaa-b8f9-dbc9d5a29927.json']\n"
     ]
    },
    {
     "data": {
      "image/png": "[encoded data removed]",
      "text/plain": [
       "<Figure size 432x288 with 1 Axes>"
      ]
     },
     "metadata": {
      "needs_background": "light"
     },
     "output_type": "display_data"
    }
   ],
   "source": [
    "#!/usr/bin/env python\n",
    "#coding: utf-8\n",
    "\n",
    "import pandas as pd\n",
    "import numpy as np\n",
    "import matplotlib.pyplot as plt\n",
    "from sklearn.linear_model import LinearRegression\n",
    "import sys\n",
    "print (sys.argv)\n",
    "#csvfile = \n",
    "\n",
    "df = pd.read_csv('regrex1.csv')\n",
    "\n",
    "x = df.x\n",
    "y = df.y\n",
    "\n",
    "plt.scatter(x,y)\n",
    "plt.title('regrex1')\n",
    "plt.xlabel('x')\n",
    "plt.ylabel('y')\n",
    "#plt.savefig(\"Png_scatter.png\")\n",
    "\n",
    "x = df.x.to_numpy()\n",
    "x = x.reshape(-1,1)\n",
    "y = df.y.to_numpy()\n",
    "y = y.reshape(-1,1)\n",
    "reg = LinearRegression().fit(x,y)\n",
    "reg.score(x,y)\n",
    "reg.coef_\n",
    "reg.intercept_\n",
    "y_predict = reg.predict(x)\n",
    "\n"
   ]
  },
  {
   "cell_type": "code",
   "execution_count": null,
   "id": "rational-baltimore",
   "metadata": {},
   "outputs": [],
   "source": []
  }
 ],
 "metadata": {
  "kernelspec": {
   "display_name": "Python 3",
   "language": "python",
   "name": "python3"
  },
  "language_info": {
   "codemirror_mode": {
    "name": "ipython",
    "version": 3
   },
   "file_extension": ".py",
   "mimetype": "text/x-python",
   "name": "python",
   "nbconvert_exporter": "python",
   "pygments_lexer": "ipython3",
   "version": "3.8.8"
  }
 },
 "nbformat": 4,
 "nbformat_minor": 5
}
