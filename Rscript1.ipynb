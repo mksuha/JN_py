{
 "cells": [
  {
   "cell_type": "code",
   "execution_count": null,
   "id": "distinguished-complaint",
   "metadata": {},
   "outputs": [],
   "source": [
    "library(tidyverse)\n",
    "library(ggplot2)\n",
    "library(dplyr)\n",
    "\n",
    "#regrex1 <- read_csv(file=\"regrex1.csv\")\n",
    "\n",
    "args <- commandArgs(trailingOnly = True)\n",
    "regrex1 <- read.csv(args[1])\n",
    "\n",
    "png(\"Rscript_regrex1.png\")\n",
    "\n",
    "ggplot(data = regrex1, aes(x=x, y=y)) +\n",
    "  geom_point() \n",
    "dev.off()\n",
    "\n",
    "png(\"Rscript2_regrex1.png\")\n",
    "ggplot(data = regrex1, aes(x=x, y=y)) +\n",
    "  geom_point() +\n",
    "  geom_smooth(color = \"purple\", level = 0, method = \"lm\")\n",
    "\n",
    "dev.off()"
   ]
  },
  {
   "cell_type": "code",
   "execution_count": null,
   "id": "pediatric-thread",
   "metadata": {},
   "outputs": [],
   "source": []
  }
 ],
 "metadata": {
  "kernelspec": {
   "display_name": "R",
   "language": "R",
   "name": "ir"
  },
  "language_info": {
   "codemirror_mode": "r",
   "file_extension": ".r",
   "mimetype": "text/x-r-source",
   "name": "R",
   "pygments_lexer": "r",
   "version": "4.0.1"
  }
 },
 "nbformat": 4,
 "nbformat_minor": 5
}
