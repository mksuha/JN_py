{
 "cells": [
  {
   "cell_type": "code",
   "execution_count": 3,
   "id": "electric-compilation",
   "metadata": {},
   "outputs": [
    {
     "ename": "ERROR",
     "evalue": "Error in commandArgs(trailingOnly = True): object 'True' not found\n",
     "output_type": "error",
     "traceback": [
      "Error in commandArgs(trailingOnly = True): object 'True' not found\nTraceback:\n",
      "1. commandArgs(trailingOnly = True)"
     ]
    }
   ],
   "source": [
    "#library(tidyverse)\n",
    "library(ggplot2)\n",
    "#library(dplyr)\n",
    "\n",
    "#regrex1 <- read_csv(file=\"regrex1.csv\")\n",
    "\n",
    "args <- commandArgs(trailingOnly = TRUE)\n",
    "regrex1 <- read.csv(args[1])\n",
    "\n",
    "png(\"Rscript_regrex1.png\")\n",
    "\n",
    "ggplot(data = regrex1, aes(x=x, y=y)) +\n",
    "  geom_point() \n",
    "dev.off()\n",
    "\n",
    "png(\"Rscript2_regrex1.png\")\n",
    "ggplot(data = regrex1, aes(x=x, y=y)) +\n",
    "  geom_point() +\n",
    "  geom_smooth(color = \"purple\", level = 0, method = \"lm\")\n",
    "\n",
    "dev.off()"
   ]
  },
  {
   "cell_type": "code",
   "execution_count": null,
   "id": "acceptable-genesis",
   "metadata": {},
   "outputs": [],
   "source": []
  }
 ],
 "metadata": {
  "kernelspec": {
   "display_name": "R",
   "language": "R",
   "name": "ir"
  },
  "language_info": {
   "codemirror_mode": "r",
   "file_extension": ".r",
   "mimetype": "text/x-r-source",
   "name": "R",
   "pygments_lexer": "r",
   "version": "4.0.1"
  }
 },
 "nbformat": 4,
 "nbformat_minor": 5
}
