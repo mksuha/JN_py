{
 "cells": [
  {
   "cell_type": "code",
   "execution_count": 1,
   "id": "three-excuse",
   "metadata": {},
   "outputs": [
    {
     "ename": "ERROR",
     "evalue": "Error in parse(text = x, srcfile = src): <text>:4:8: unexpected symbol\n3: \n4: import pandas\n          ^\n",
     "output_type": "error",
     "traceback": [
      "Error in parse(text = x, srcfile = src): <text>:4:8: unexpected symbol\n3: \n4: import pandas\n          ^\nTraceback:\n"
     ]
    }
   ],
   "source": [
    "#!/usr/bin/env python\n",
    "#coding: utf-8\n",
    "\n",
    "import pandas as pd\n",
    "import numpy as np\n",
    "import matplotlib.pyplot as plt\n",
    "from sklearn.linear_model import LinearRegression\n",
    "import sys\n",
    "#print (sys.argv)\n",
    "#csvfile = \n",
    "\n",
    "df = pd.read_csv ('regrex1.csv')\n",
    "\n",
    "x = df.x\n",
    "y = df.y\n",
    "\n",
    "plt.scatter(x,y)\n",
    "plt.title('regrex1')\n",
    "plt.xlabel('x')\n",
    "plt.ylabel('y')\n",
    "#plt.savefig(\"Png_scatter.png\")\n",
    "x = df.x.to_numpy()\n",
    "y = df.y.to_numpy()\n",
    "m, b = np.polyfit(x, y, 1)\n",
    "\n",
    "plt.plot(x, y, 'o')\n",
    "\n",
    "\n",
    "plt.plot(x, m*x + b)"
   ]
  },
  {
   "cell_type": "code",
   "execution_count": null,
   "id": "banned-canon",
   "metadata": {},
   "outputs": [],
   "source": [
    "x <- mtcars$wt\n",
    "y <- mtcars$mpg\n",
    "# Plot with main and axis titles\n",
    "# Change point shape (pch = 19) and remove frame.\n",
    "plot(x, y, main = \"Main title\",\n",
    "     xlab = \"X axis title\", ylab = \"Y axis title\",\n",
    "     pch = 19, frame = FALSE)\n",
    "# Add regression line\n",
    "plot(x, y, main = \"Main title\",\n",
    "     xlab = \"X axis title\", ylab = \"Y axis title\",\n",
    "     pch = 19, frame = FALSE)\n",
    "abline(lm(y ~ x, data = mtcars), col = \"blue\")"
   ]
  },
  {
   "cell_type": "code",
   "execution_count": 2,
   "id": "textile-disney",
   "metadata": {},
   "outputs": [
    {
     "ename": "ERROR",
     "evalue": "Error in read_csv(\"regrex1.csv\"): could not find function \"read_csv\"\n",
     "output_type": "error",
     "traceback": [
      "Error in read_csv(\"regrex1.csv\"): could not find function \"read_csv\"\nTraceback:\n"
     ]
    }
   ],
   "source": [
    "my_data <- read_csv(\"regrex1.csv\")"
   ]
  },
  {
   "cell_type": "code",
   "execution_count": 3,
   "id": "significant-billy",
   "metadata": {},
   "outputs": [
    {
     "ename": "ERROR",
     "evalue": "Error in library(plotly): there is no package called ‘plotly’\n",
     "output_type": "error",
     "traceback": [
      "Error in library(plotly): there is no package called ‘plotly’\nTraceback:\n",
      "1. library(plotly)"
     ]
    }
   ],
   "source": [
    "library(plotly)"
   ]
  },
  {
   "cell_type": "code",
   "execution_count": 5,
   "id": "interpreted-kennedy",
   "metadata": {},
   "outputs": [
    {
     "name": "stderr",
     "output_type": "stream",
     "text": [
      "Updating HTML index of packages in '.Library'\n",
      "\n",
      "Making 'packages.html' ...\n",
      " done\n",
      "\n",
      "Updating HTML index of packages in '.Library'\n",
      "\n",
      "Making 'packages.html' ...\n",
      " done\n",
      "\n",
      "Updating HTML index of packages in '.Library'\n",
      "\n",
      "Making 'packages.html' ...\n",
      " done\n",
      "\n",
      "Updating HTML index of packages in '.Library'\n",
      "\n",
      "Making 'packages.html' ...\n",
      " done\n",
      "\n",
      "Updating HTML index of packages in '.Library'\n",
      "\n",
      "Making 'packages.html' ...\n",
      " done\n",
      "\n",
      "Updating HTML index of packages in '.Library'\n",
      "\n",
      "Making 'packages.html' ...\n",
      " done\n",
      "\n",
      "Updating HTML index of packages in '.Library'\n",
      "\n",
      "Making 'packages.html' ...\n",
      " done\n",
      "\n",
      "also installing the dependencies ‘matrixStats’, ‘RcppArmadillo’, ‘MatrixModels’, ‘conquer’\n",
      "\n",
      "\n",
      "Updating HTML index of packages in '.Library'\n",
      "\n",
      "Making 'packages.html' ...\n",
      " done\n",
      "\n"
     ]
    }
   ],
   "source": [
    "install.packages(\"tidyverse\")\n",
    "install.packages(\"ggplot2\")\n",
    "install.packages(\"dplyr\")\n",
    "install.packages(\"SparseM\")\n",
    "install.packages(\"reshape2\")\n",
    "install.packages(\"plotly\")\n",
    "install.packages(\"stringr\")\n",
    "install.packages(\"quantreg\")"
   ]
  },
  {
   "cell_type": "code",
   "execution_count": null,
   "id": "floral-separate",
   "metadata": {},
   "outputs": [],
   "source": [
    "library(tidyverse)\n",
    "library(ggplot2)\n",
    "library(dplyr)\n",
    "library(SparseM)\n",
    "library(reshape2)\n",
    "library(plotly)\n",
    "library(stringr)\n",
    "library(quantreg)\n",
    "\n",
    "regrex1 <- read_csv(file=\"regrex1.csv\")\n",
    "\n",
    "ggplot(data = regrex1, aes(x=x, y=y)) + geom_point() + geomgeom_smooth(color = \"purple\", level = 0.95) + geom_line(color = \"green\")\n"
   ]
  }
 ],
 "metadata": {
  "kernelspec": {
   "display_name": "R",
   "language": "R",
   "name": "ir"
  },
  "language_info": {
   "codemirror_mode": "r",
   "file_extension": ".r",
   "mimetype": "text/x-r-source",
   "name": "R",
   "pygments_lexer": "r",
   "version": "4.0.1"
  }
 },
 "nbformat": 4,
 "nbformat_minor": 5
}
